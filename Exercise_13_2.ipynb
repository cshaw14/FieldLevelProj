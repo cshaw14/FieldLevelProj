{
 "cells": [
  {
   "cell_type": "markdown",
   "id": "ce8d0868",
   "metadata": {},
   "source": [
    "# Chasen Shaw\n",
    "## FieldLevel Project"
   ]
  },
  {
   "cell_type": "code",
   "execution_count": 1,
   "id": "1f9590ae-5f76-479d-acb3-b52e3ef17ac6",
   "metadata": {},
   "outputs": [
    {
     "data": {
      "text/html": [
       "<style>.container { width:98% !important; }</style>"
      ],
      "text/plain": [
       "<IPython.core.display.HTML object>"
      ]
     },
     "metadata": {},
     "output_type": "display_data"
    }
   ],
   "source": [
    "import numpy as np\n",
    "import matplotlib.dates as mdates\n",
    "import matplotlib.ticker as mtick\n",
    "from matplotlib import pyplot as plt\n",
    "from datetime import datetime\n",
    "import calendar\n",
    "from IPython.display import display, HTML, Markdown\n",
    "display(HTML(\"<style>.container { width:98% !important; }</style>\"))\n",
    "from pytz import timezone\n",
    "import pytz\n",
    "from dateutil import tz\n",
    "\n",
    "import pandas as pd\n",
    "pd.set_option(\"display.max_columns\",999)\n",
    "pd.options.display.max_rows = 9999\n",
    "pd.set_option('display.float_format', lambda x: '%.3f' % x)"
   ]
  },
  {
   "cell_type": "code",
   "execution_count": 2,
   "id": "4887ff2a-54cd-4a41-99e9-200ef1cec192",
   "metadata": {},
   "outputs": [],
   "source": [
    "df_emails = pd.read_csv('/Users/chasenshaw/Documents/fieldlevel-datascience-internship-take-home-main/data/email_data.csv',delimiter=',')\n",
    "\n",
    "df_activity = pd.read_csv('/Users/chasenshaw/Documents/fieldlevel-datascience-internship-take-home-main/data/activity_data.csv',delimiter=',')"
   ]
  },
  {
   "cell_type": "markdown",
   "id": "649da334",
   "metadata": {},
   "source": [
    "# Problem 1\n",
    "## Rows in number of emails"
   ]
  },
  {
   "cell_type": "code",
   "execution_count": 66,
   "id": "ec3f6eff",
   "metadata": {},
   "outputs": [
    {
     "name": "stdout",
     "output_type": "stream",
     "text": [
      "The numbers of rows in df_emails is  474163  and the number of rows in df_activities is  4559973\n"
     ]
    }
   ],
   "source": [
    "print(\"The numbers of rows in df_emails is \",len(df_emails),\" and the number of rows in df_activities is \",len(df_activity))"
   ]
  },
  {
   "cell_type": "markdown",
   "id": "0a627bc4",
   "metadata": {},
   "source": [
    "## So that's the number of rows, but how many emails were really sent? "
   ]
  },
  {
   "cell_type": "code",
   "execution_count": 87,
   "id": "4a636af5",
   "metadata": {},
   "outputs": [
    {
     "data": {
      "text/plain": [
       "15805433"
      ]
     },
     "execution_count": 87,
     "metadata": {},
     "output_type": "execute_result"
    }
   ],
   "source": [
    "int(len(df_emails)*(100/3))"
   ]
  },
  {
   "cell_type": "markdown",
   "id": "c98410c3",
   "metadata": {},
   "source": [
    "# Problem 2"
   ]
  },
  {
   "cell_type": "code",
   "execution_count": 221,
   "id": "e735d2cc",
   "metadata": {},
   "outputs": [],
   "source": [
    "def timePST(utc,intro):\n",
    "    from_zone = tz.gettz('UTC')\n",
    "    to_zone = tz.gettz('Pacific/Kiritimati')\n",
    "    utc = utc.replace(tzinfo=from_zone)\n",
    "    central = utc.astimezone(to_zone)\n",
    "    print(intro,\"Time (PST): \",central)"
   ]
  },
  {
   "cell_type": "code",
   "execution_count": 222,
   "id": "8c4e5d5e",
   "metadata": {},
   "outputs": [
    {
     "name": "stdout",
     "output_type": "stream",
     "text": [
      "Earliest Time (PST):  2018-01-05 02:51:07.807000+14:00\n",
      "Latest Time (PST):  2021-04-20 03:45:02.670000+14:00\n"
     ]
    }
   ],
   "source": [
    "Pr1=df_emails\n",
    "Pr1['EmailSentDateTimeUtc']=pd.to_datetime(Pr1['EmailSentDateTimeUtc'])\n",
    "Pr1_2=Pr1.sort_values(by='EmailSentDateTimeUtc',ignore_index=True).drop_duplicates(subset=\"UserId\",ignore_index=True)\n",
    "timePST(Pr1_2.EmailSentDateTimeUtc[1],\"Earliest\")\n",
    "timePST(Pr1_2.EmailSentDateTimeUtc[len(Pr1_2)-1],\"Latest\")"
   ]
  },
  {
   "cell_type": "markdown",
   "id": "c28c50d7",
   "metadata": {},
   "source": [
    "# Problem 3"
   ]
  },
  {
   "cell_type": "code",
   "execution_count": 5,
   "id": "621105d4",
   "metadata": {},
   "outputs": [
    {
     "data": {
      "text/html": [
       "<div>\n",
       "<style scoped>\n",
       "    .dataframe tbody tr th:only-of-type {\n",
       "        vertical-align: middle;\n",
       "    }\n",
       "\n",
       "    .dataframe tbody tr th {\n",
       "        vertical-align: top;\n",
       "    }\n",
       "\n",
       "    .dataframe thead th {\n",
       "        text-align: right;\n",
       "    }\n",
       "</style>\n",
       "<table border=\"1\" class=\"dataframe\">\n",
       "  <thead>\n",
       "    <tr style=\"text-align: right;\">\n",
       "      <th></th>\n",
       "      <th>EmailSentDateTimeUtc</th>\n",
       "      <th>UserId</th>\n",
       "      <th>ZipCode</th>\n",
       "      <th>DateOfActivityPST</th>\n",
       "      <th>ActivityCount</th>\n",
       "    </tr>\n",
       "  </thead>\n",
       "  <tbody>\n",
       "    <tr>\n",
       "      <th>2880</th>\n",
       "      <td>2019-08-18 02:16:37.580</td>\n",
       "      <td>700710988210</td>\n",
       "      <td>36104.000</td>\n",
       "      <td>2018-01-31</td>\n",
       "      <td>2</td>\n",
       "    </tr>\n",
       "    <tr>\n",
       "      <th>2881</th>\n",
       "      <td>2019-08-18 02:16:37.580</td>\n",
       "      <td>700710988210</td>\n",
       "      <td>36104.000</td>\n",
       "      <td>2018-02-06</td>\n",
       "      <td>26</td>\n",
       "    </tr>\n",
       "    <tr>\n",
       "      <th>2882</th>\n",
       "      <td>2019-08-18 02:16:37.580</td>\n",
       "      <td>700710988210</td>\n",
       "      <td>36104.000</td>\n",
       "      <td>2018-02-22</td>\n",
       "      <td>1</td>\n",
       "    </tr>\n",
       "    <tr>\n",
       "      <th>2883</th>\n",
       "      <td>2019-08-18 02:16:37.580</td>\n",
       "      <td>700710988210</td>\n",
       "      <td>36104.000</td>\n",
       "      <td>2018-02-27</td>\n",
       "      <td>320</td>\n",
       "    </tr>\n",
       "    <tr>\n",
       "      <th>2884</th>\n",
       "      <td>2019-08-18 02:16:37.580</td>\n",
       "      <td>700710988210</td>\n",
       "      <td>36104.000</td>\n",
       "      <td>2018-03-01</td>\n",
       "      <td>117</td>\n",
       "    </tr>\n",
       "    <tr>\n",
       "      <th>...</th>\n",
       "      <td>...</td>\n",
       "      <td>...</td>\n",
       "      <td>...</td>\n",
       "      <td>...</td>\n",
       "      <td>...</td>\n",
       "    </tr>\n",
       "    <tr>\n",
       "      <th>45868725</th>\n",
       "      <td>2021-04-08 16:49:23.040</td>\n",
       "      <td>906354699455</td>\n",
       "      <td>49649.000</td>\n",
       "      <td>2021-04-01</td>\n",
       "      <td>84</td>\n",
       "    </tr>\n",
       "    <tr>\n",
       "      <th>45868726</th>\n",
       "      <td>2021-04-08 16:49:23.040</td>\n",
       "      <td>906354699455</td>\n",
       "      <td>49649.000</td>\n",
       "      <td>2021-04-12</td>\n",
       "      <td>12</td>\n",
       "    </tr>\n",
       "    <tr>\n",
       "      <th>45868727</th>\n",
       "      <td>2021-04-08 16:49:23.040</td>\n",
       "      <td>906354699455</td>\n",
       "      <td>49649.000</td>\n",
       "      <td>2021-04-13</td>\n",
       "      <td>25</td>\n",
       "    </tr>\n",
       "    <tr>\n",
       "      <th>45868728</th>\n",
       "      <td>2021-04-08 16:49:23.040</td>\n",
       "      <td>906354699455</td>\n",
       "      <td>49649.000</td>\n",
       "      <td>2021-04-14</td>\n",
       "      <td>3</td>\n",
       "    </tr>\n",
       "    <tr>\n",
       "      <th>45868729</th>\n",
       "      <td>2021-04-08 16:49:23.040</td>\n",
       "      <td>906354699455</td>\n",
       "      <td>49649.000</td>\n",
       "      <td>2021-04-16</td>\n",
       "      <td>3</td>\n",
       "    </tr>\n",
       "  </tbody>\n",
       "</table>\n",
       "<p>23639945 rows × 5 columns</p>\n",
       "</div>"
      ],
      "text/plain": [
       "             EmailSentDateTimeUtc        UserId   ZipCode DateOfActivityPST  \\\n",
       "2880      2019-08-18 02:16:37.580  700710988210 36104.000        2018-01-31   \n",
       "2881      2019-08-18 02:16:37.580  700710988210 36104.000        2018-02-06   \n",
       "2882      2019-08-18 02:16:37.580  700710988210 36104.000        2018-02-22   \n",
       "2883      2019-08-18 02:16:37.580  700710988210 36104.000        2018-02-27   \n",
       "2884      2019-08-18 02:16:37.580  700710988210 36104.000        2018-03-01   \n",
       "...                           ...           ...       ...               ...   \n",
       "45868725  2021-04-08 16:49:23.040  906354699455 49649.000        2021-04-01   \n",
       "45868726  2021-04-08 16:49:23.040  906354699455 49649.000        2021-04-12   \n",
       "45868727  2021-04-08 16:49:23.040  906354699455 49649.000        2021-04-13   \n",
       "45868728  2021-04-08 16:49:23.040  906354699455 49649.000        2021-04-14   \n",
       "45868729  2021-04-08 16:49:23.040  906354699455 49649.000        2021-04-16   \n",
       "\n",
       "          ActivityCount  \n",
       "2880                  2  \n",
       "2881                 26  \n",
       "2882                  1  \n",
       "2883                320  \n",
       "2884                117  \n",
       "...                 ...  \n",
       "45868725             84  \n",
       "45868726             12  \n",
       "45868727             25  \n",
       "45868728              3  \n",
       "45868729              3  \n",
       "\n",
       "[23639945 rows x 5 columns]"
      ]
     },
     "execution_count": 5,
     "metadata": {},
     "output_type": "execute_result"
    }
   ],
   "source": [
    "df2=df_emails\n",
    "df2_2=df2[[\"EmailSentDateTimeUtc\",\"UserId\",\"ZipCode\"]]\n",
    "df3_2=df_activity\n",
    "df3_3=df3_2[[\"UserId\",\"DateOfActivityPST\"]]\n",
    "df3=pd.merge(df2_2,df3_2,on='UserId')\n",
    "df3=df3.dropna()\n",
    "df3"
   ]
  },
  {
   "cell_type": "code",
   "execution_count": 9,
   "id": "f2f233e0",
   "metadata": {},
   "outputs": [
    {
     "data": {
      "text/plain": [
       "17551.000    115543\n",
       "75134.000    114603\n",
       "66720.000     77282\n",
       "98133.000     75321\n",
       "52655.000     72582\n",
       "40769.000     71142\n",
       "63129.000     70693\n",
       "33155.000     70189\n",
       "67460.000     63395\n",
       "15601.000     61870\n",
       "Name: ZipCode, dtype: int64"
      ]
     },
     "execution_count": 9,
     "metadata": {},
     "output_type": "execute_result"
    }
   ],
   "source": [
    "df3.ZipCode.value_counts().head(10)"
   ]
  },
  {
   "cell_type": "markdown",
   "id": "b1ed11c7",
   "metadata": {},
   "source": [
    "# Problem 4\n",
    "## (Plot on cell 21)"
   ]
  },
  {
   "cell_type": "code",
   "execution_count": 10,
   "id": "500b40b7-250d-4690-a9ac-9d80d2facf69",
   "metadata": {},
   "outputs": [],
   "source": [
    "df2=df_emails\n",
    "df2['EmailSentDateTimeUtc']=pd.to_datetime(df2['EmailSentDateTimeUtc'])"
   ]
  },
  {
   "cell_type": "code",
   "execution_count": 12,
   "id": "805fc44d",
   "metadata": {},
   "outputs": [],
   "source": [
    "def monthSum(matrix):    \n",
    "    array={}\n",
    "    m=0\n",
    "    counter=1\n",
    "    for j in range(0,3):\n",
    "        v = matrix[matrix['EmailSentDateTimeUtc'].dt.year == 2018+j]\n",
    "        k=j\n",
    "        #print(k)\n",
    "        for i in range(1,13):\n",
    "            array[k*(12)+i]=len(v[v['EmailSentDateTimeUtc'].dt.month == i].drop_duplicates(subset='UserId',ignore_index = True))\n",
    "            #print(i)\n",
    "    v=matrix[matrix['EmailSentDateTimeUtc'].dt.year == 2021]\n",
    "    for i in range(1,5):\n",
    "        array[3*(12)+i]=len(v[v['EmailSentDateTimeUtc'].dt.month == i].drop_duplicates(subset='UserId',ignore_index = True))\n",
    "        #print(i)\n",
    "    return array"
   ]
  },
  {
   "cell_type": "code",
   "execution_count": 13,
   "id": "925a7631",
   "metadata": {},
   "outputs": [],
   "source": [
    "array=monthSum(df2)"
   ]
  },
  {
   "cell_type": "code",
   "execution_count": 14,
   "id": "c447d51b",
   "metadata": {},
   "outputs": [
    {
     "data": {
      "text/plain": [
       "{1: 456,\n",
       " 2: 555,\n",
       " 3: 492,\n",
       " 4: 507,\n",
       " 5: 1217,\n",
       " 6: 1999,\n",
       " 7: 1991,\n",
       " 8: 2345,\n",
       " 9: 2643,\n",
       " 10: 3371,\n",
       " 11: 3883,\n",
       " 12: 6654,\n",
       " 13: 9401,\n",
       " 14: 7423,\n",
       " 15: 16956,\n",
       " 16: 13084,\n",
       " 17: 13517,\n",
       " 18: 13348,\n",
       " 19: 11677,\n",
       " 20: 11190,\n",
       " 21: 8434,\n",
       " 22: 11881,\n",
       " 23: 12028,\n",
       " 24: 12053,\n",
       " 25: 12443,\n",
       " 26: 13274,\n",
       " 27: 15664,\n",
       " 28: 15621,\n",
       " 29: 17032,\n",
       " 30: 16747,\n",
       " 31: 11860,\n",
       " 32: 14055,\n",
       " 33: 16015,\n",
       " 34: 15832,\n",
       " 35: 13778,\n",
       " 36: 14637,\n",
       " 37: 15086,\n",
       " 38: 14464,\n",
       " 39: 16371,\n",
       " 40: 9891}"
      ]
     },
     "execution_count": 14,
     "metadata": {},
     "output_type": "execute_result"
    }
   ],
   "source": [
    "array"
   ]
  },
  {
   "cell_type": "code",
   "execution_count": 15,
   "id": "0b2e2253-2859-4f02-b2ec-77f1b08076c5",
   "metadata": {},
   "outputs": [],
   "source": [
    "df2\n",
    "df2_2=df2[[\"EmailSentDateTimeUtc\",\"UserId\"]]"
   ]
  },
  {
   "cell_type": "code",
   "execution_count": 16,
   "id": "27cb16e1-0ebe-499a-b245-fc4969b56441",
   "metadata": {},
   "outputs": [],
   "source": [
    "df3_2=df_activity"
   ]
  },
  {
   "cell_type": "code",
   "execution_count": 17,
   "id": "9037d23d-4c6e-496b-b550-b488e4192cba",
   "metadata": {},
   "outputs": [],
   "source": [
    "df3_3=df3_2[[\"UserId\",\"DateOfActivityPST\"]]"
   ]
  },
  {
   "cell_type": "code",
   "execution_count": 18,
   "id": "4f755bb9-e6da-4e60-9d2c-a74e636eebf0",
   "metadata": {},
   "outputs": [],
   "source": [
    "df3=pd.merge(df2_2,df3_2,on='UserId')"
   ]
  },
  {
   "cell_type": "code",
   "execution_count": 19,
   "id": "272ee10d-92da-43c4-8848-59c01670d716",
   "metadata": {},
   "outputs": [
    {
     "data": {
      "text/html": [
       "<div>\n",
       "<style scoped>\n",
       "    .dataframe tbody tr th:only-of-type {\n",
       "        vertical-align: middle;\n",
       "    }\n",
       "\n",
       "    .dataframe tbody tr th {\n",
       "        vertical-align: top;\n",
       "    }\n",
       "\n",
       "    .dataframe thead th {\n",
       "        text-align: right;\n",
       "    }\n",
       "</style>\n",
       "<table border=\"1\" class=\"dataframe\">\n",
       "  <thead>\n",
       "    <tr style=\"text-align: right;\">\n",
       "      <th></th>\n",
       "      <th>EmailSentDateTimeUtc</th>\n",
       "      <th>UserId</th>\n",
       "      <th>DateOfActivityPST</th>\n",
       "      <th>ActivityCount</th>\n",
       "    </tr>\n",
       "  </thead>\n",
       "  <tbody>\n",
       "    <tr>\n",
       "      <th>0</th>\n",
       "      <td>2019-07-31 15:13:25.817</td>\n",
       "      <td>851332105693</td>\n",
       "      <td>2020-10-05</td>\n",
       "      <td>21</td>\n",
       "    </tr>\n",
       "    <tr>\n",
       "      <th>1</th>\n",
       "      <td>2019-07-31 15:13:25.817</td>\n",
       "      <td>851332105693</td>\n",
       "      <td>2020-11-08</td>\n",
       "      <td>7</td>\n",
       "    </tr>\n",
       "    <tr>\n",
       "      <th>2</th>\n",
       "      <td>2019-07-31 15:13:25.817</td>\n",
       "      <td>851332105693</td>\n",
       "      <td>2021-02-14</td>\n",
       "      <td>5</td>\n",
       "    </tr>\n",
       "    <tr>\n",
       "      <th>3</th>\n",
       "      <td>2019-08-02 02:15:52.447</td>\n",
       "      <td>369293054977</td>\n",
       "      <td>2019-01-19</td>\n",
       "      <td>18</td>\n",
       "    </tr>\n",
       "    <tr>\n",
       "      <th>4</th>\n",
       "      <td>2019-08-02 02:15:52.447</td>\n",
       "      <td>369293054977</td>\n",
       "      <td>2019-01-20</td>\n",
       "      <td>3</td>\n",
       "    </tr>\n",
       "    <tr>\n",
       "      <th>...</th>\n",
       "      <td>...</td>\n",
       "      <td>...</td>\n",
       "      <td>...</td>\n",
       "      <td>...</td>\n",
       "    </tr>\n",
       "    <tr>\n",
       "      <th>45868771</th>\n",
       "      <td>2021-04-13 05:55:33.347</td>\n",
       "      <td>944437414453</td>\n",
       "      <td>2021-04-15</td>\n",
       "      <td>178</td>\n",
       "    </tr>\n",
       "    <tr>\n",
       "      <th>45868772</th>\n",
       "      <td>2021-04-13 05:55:33.347</td>\n",
       "      <td>944437414453</td>\n",
       "      <td>2021-04-16</td>\n",
       "      <td>203</td>\n",
       "    </tr>\n",
       "    <tr>\n",
       "      <th>45868773</th>\n",
       "      <td>2021-04-13 05:55:33.347</td>\n",
       "      <td>944437414453</td>\n",
       "      <td>2021-04-17</td>\n",
       "      <td>87</td>\n",
       "    </tr>\n",
       "    <tr>\n",
       "      <th>45868774</th>\n",
       "      <td>2021-04-13 05:55:33.347</td>\n",
       "      <td>944437414453</td>\n",
       "      <td>2021-04-18</td>\n",
       "      <td>260</td>\n",
       "    </tr>\n",
       "    <tr>\n",
       "      <th>45868775</th>\n",
       "      <td>2021-04-13 05:55:33.347</td>\n",
       "      <td>944437414453</td>\n",
       "      <td>2021-04-19</td>\n",
       "      <td>19</td>\n",
       "    </tr>\n",
       "  </tbody>\n",
       "</table>\n",
       "<p>45868776 rows × 4 columns</p>\n",
       "</div>"
      ],
      "text/plain": [
       "            EmailSentDateTimeUtc        UserId DateOfActivityPST  \\\n",
       "0        2019-07-31 15:13:25.817  851332105693        2020-10-05   \n",
       "1        2019-07-31 15:13:25.817  851332105693        2020-11-08   \n",
       "2        2019-07-31 15:13:25.817  851332105693        2021-02-14   \n",
       "3        2019-08-02 02:15:52.447  369293054977        2019-01-19   \n",
       "4        2019-08-02 02:15:52.447  369293054977        2019-01-20   \n",
       "...                          ...           ...               ...   \n",
       "45868771 2021-04-13 05:55:33.347  944437414453        2021-04-15   \n",
       "45868772 2021-04-13 05:55:33.347  944437414453        2021-04-16   \n",
       "45868773 2021-04-13 05:55:33.347  944437414453        2021-04-17   \n",
       "45868774 2021-04-13 05:55:33.347  944437414453        2021-04-18   \n",
       "45868775 2021-04-13 05:55:33.347  944437414453        2021-04-19   \n",
       "\n",
       "          ActivityCount  \n",
       "0                    21  \n",
       "1                     7  \n",
       "2                     5  \n",
       "3                    18  \n",
       "4                     3  \n",
       "...                 ...  \n",
       "45868771            178  \n",
       "45868772            203  \n",
       "45868773             87  \n",
       "45868774            260  \n",
       "45868775             19  \n",
       "\n",
       "[45868776 rows x 4 columns]"
      ]
     },
     "execution_count": 19,
     "metadata": {},
     "output_type": "execute_result"
    }
   ],
   "source": [
    "df3"
   ]
  },
  {
   "cell_type": "code",
   "execution_count": 20,
   "id": "9760d82a-ea7f-4a26-b71b-1a96759590d7",
   "metadata": {},
   "outputs": [
    {
     "data": {
      "text/html": [
       "<div>\n",
       "<style scoped>\n",
       "    .dataframe tbody tr th:only-of-type {\n",
       "        vertical-align: middle;\n",
       "    }\n",
       "\n",
       "    .dataframe tbody tr th {\n",
       "        vertical-align: top;\n",
       "    }\n",
       "\n",
       "    .dataframe thead th {\n",
       "        text-align: right;\n",
       "    }\n",
       "</style>\n",
       "<table border=\"1\" class=\"dataframe\">\n",
       "  <thead>\n",
       "    <tr style=\"text-align: right;\">\n",
       "      <th></th>\n",
       "      <th>EmailSentDateTimeUtc</th>\n",
       "      <th>UserId</th>\n",
       "      <th>DateOfActivityPST</th>\n",
       "      <th>ActivityCount</th>\n",
       "    </tr>\n",
       "  </thead>\n",
       "  <tbody>\n",
       "    <tr>\n",
       "      <th>0</th>\n",
       "      <td>2019-07-31 15:13:25.817</td>\n",
       "      <td>851332105693</td>\n",
       "      <td>2020-10-05</td>\n",
       "      <td>21</td>\n",
       "    </tr>\n",
       "    <tr>\n",
       "      <th>1</th>\n",
       "      <td>2019-07-31 15:13:25.817</td>\n",
       "      <td>851332105693</td>\n",
       "      <td>2020-11-08</td>\n",
       "      <td>7</td>\n",
       "    </tr>\n",
       "    <tr>\n",
       "      <th>2</th>\n",
       "      <td>2019-07-31 15:13:25.817</td>\n",
       "      <td>851332105693</td>\n",
       "      <td>2021-02-14</td>\n",
       "      <td>5</td>\n",
       "    </tr>\n",
       "    <tr>\n",
       "      <th>3</th>\n",
       "      <td>2019-08-02 02:15:52.447</td>\n",
       "      <td>369293054977</td>\n",
       "      <td>2019-01-19</td>\n",
       "      <td>18</td>\n",
       "    </tr>\n",
       "    <tr>\n",
       "      <th>4</th>\n",
       "      <td>2019-08-02 02:15:52.447</td>\n",
       "      <td>369293054977</td>\n",
       "      <td>2019-01-20</td>\n",
       "      <td>3</td>\n",
       "    </tr>\n",
       "    <tr>\n",
       "      <th>...</th>\n",
       "      <td>...</td>\n",
       "      <td>...</td>\n",
       "      <td>...</td>\n",
       "      <td>...</td>\n",
       "    </tr>\n",
       "    <tr>\n",
       "      <th>45868771</th>\n",
       "      <td>2021-04-13 05:55:33.347</td>\n",
       "      <td>944437414453</td>\n",
       "      <td>2021-04-15</td>\n",
       "      <td>178</td>\n",
       "    </tr>\n",
       "    <tr>\n",
       "      <th>45868772</th>\n",
       "      <td>2021-04-13 05:55:33.347</td>\n",
       "      <td>944437414453</td>\n",
       "      <td>2021-04-16</td>\n",
       "      <td>203</td>\n",
       "    </tr>\n",
       "    <tr>\n",
       "      <th>45868773</th>\n",
       "      <td>2021-04-13 05:55:33.347</td>\n",
       "      <td>944437414453</td>\n",
       "      <td>2021-04-17</td>\n",
       "      <td>87</td>\n",
       "    </tr>\n",
       "    <tr>\n",
       "      <th>45868774</th>\n",
       "      <td>2021-04-13 05:55:33.347</td>\n",
       "      <td>944437414453</td>\n",
       "      <td>2021-04-18</td>\n",
       "      <td>260</td>\n",
       "    </tr>\n",
       "    <tr>\n",
       "      <th>45868775</th>\n",
       "      <td>2021-04-13 05:55:33.347</td>\n",
       "      <td>944437414453</td>\n",
       "      <td>2021-04-19</td>\n",
       "      <td>19</td>\n",
       "    </tr>\n",
       "  </tbody>\n",
       "</table>\n",
       "<p>45868776 rows × 4 columns</p>\n",
       "</div>"
      ],
      "text/plain": [
       "            EmailSentDateTimeUtc        UserId DateOfActivityPST  \\\n",
       "0        2019-07-31 15:13:25.817  851332105693        2020-10-05   \n",
       "1        2019-07-31 15:13:25.817  851332105693        2020-11-08   \n",
       "2        2019-07-31 15:13:25.817  851332105693        2021-02-14   \n",
       "3        2019-08-02 02:15:52.447  369293054977        2019-01-19   \n",
       "4        2019-08-02 02:15:52.447  369293054977        2019-01-20   \n",
       "...                          ...           ...               ...   \n",
       "45868771 2021-04-13 05:55:33.347  944437414453        2021-04-15   \n",
       "45868772 2021-04-13 05:55:33.347  944437414453        2021-04-16   \n",
       "45868773 2021-04-13 05:55:33.347  944437414453        2021-04-17   \n",
       "45868774 2021-04-13 05:55:33.347  944437414453        2021-04-18   \n",
       "45868775 2021-04-13 05:55:33.347  944437414453        2021-04-19   \n",
       "\n",
       "          ActivityCount  \n",
       "0                    21  \n",
       "1                     7  \n",
       "2                     5  \n",
       "3                    18  \n",
       "4                     3  \n",
       "...                 ...  \n",
       "45868771            178  \n",
       "45868772            203  \n",
       "45868773             87  \n",
       "45868774            260  \n",
       "45868775             19  \n",
       "\n",
       "[45868776 rows x 4 columns]"
      ]
     },
     "execution_count": 20,
     "metadata": {},
     "output_type": "execute_result"
    }
   ],
   "source": [
    "df3['DateOfActivityPST']=pd.to_datetime(df3['DateOfActivityPST'])\n",
    "df3['EmailSentDateTimeUtc']=pd.to_datetime(df3['EmailSentDateTimeUtc'])\n",
    "df3"
   ]
  },
  {
   "cell_type": "code",
   "execution_count": 21,
   "id": "f364da7b-d44d-4f13-9f0b-6b0096ce340c",
   "metadata": {},
   "outputs": [],
   "source": [
    "df5=df3.loc[df3.EmailSentDateTimeUtc.dt.date==df3.DateOfActivityPST.dt.date]"
   ]
  },
  {
   "cell_type": "code",
   "execution_count": 22,
   "id": "35829a25-2ee1-4a05-999c-ec74710e1cf3",
   "metadata": {},
   "outputs": [],
   "source": [
    "df5=df5.reset_index(drop=True)"
   ]
  },
  {
   "cell_type": "code",
   "execution_count": 23,
   "id": "7062e290",
   "metadata": {},
   "outputs": [],
   "source": [
    "array3=monthSum(df5)"
   ]
  },
  {
   "cell_type": "code",
   "execution_count": 24,
   "id": "973d4824",
   "metadata": {},
   "outputs": [
    {
     "data": {
      "text/plain": [
       "{1: 208,\n",
       " 2: 255,\n",
       " 3: 229,\n",
       " 4: 222,\n",
       " 5: 359,\n",
       " 6: 463,\n",
       " 7: 410,\n",
       " 8: 569,\n",
       " 9: 837,\n",
       " 10: 1181,\n",
       " 11: 1229,\n",
       " 12: 1299,\n",
       " 13: 1748,\n",
       " 14: 1643,\n",
       " 15: 2521,\n",
       " 16: 2164,\n",
       " 17: 2296,\n",
       " 18: 1617,\n",
       " 19: 1334,\n",
       " 20: 1529,\n",
       " 21: 1698,\n",
       " 22: 2123,\n",
       " 23: 2080,\n",
       " 24: 2034,\n",
       " 25: 2266,\n",
       " 26: 2262,\n",
       " 27: 2442,\n",
       " 28: 3370,\n",
       " 29: 3260,\n",
       " 30: 2581,\n",
       " 31: 1849,\n",
       " 32: 1910,\n",
       " 33: 2532,\n",
       " 34: 2612,\n",
       " 35: 2128,\n",
       " 36: 2238,\n",
       " 37: 2421,\n",
       " 38: 2483,\n",
       " 39: 2621,\n",
       " 40: 1589}"
      ]
     },
     "execution_count": 24,
     "metadata": {},
     "output_type": "execute_result"
    }
   ],
   "source": [
    "array3"
   ]
  },
  {
   "cell_type": "code",
   "execution_count": 25,
   "id": "925f2ca0-3bf9-4e19-92f9-eda5a45cec28",
   "metadata": {},
   "outputs": [
    {
     "data": {
      "text/plain": [
       "{1: 45.614035087719294,\n",
       " 2: 45.94594594594595,\n",
       " 3: 46.54471544715447,\n",
       " 4: 43.786982248520715,\n",
       " 5: 29.4987674609696,\n",
       " 6: 23.1615807903952,\n",
       " 7: 20.592667001506783,\n",
       " 8: 24.264392324093816,\n",
       " 9: 31.66855845629966,\n",
       " 10: 35.03411450608128,\n",
       " 11: 31.65078547514808,\n",
       " 12: 19.52209197475203,\n",
       " 13: 18.59376662057228,\n",
       " 14: 22.133908123400243,\n",
       " 15: 14.867893371078084,\n",
       " 16: 16.53928462243962,\n",
       " 17: 16.986017607457278,\n",
       " 18: 12.114174408151033,\n",
       " 19: 11.424167166224201,\n",
       " 20: 13.663985701519213,\n",
       " 21: 20.13279582641688,\n",
       " 22: 17.86886625704907,\n",
       " 23: 17.292983039574327,\n",
       " 24: 16.87546668879117,\n",
       " 25: 18.211042353130274,\n",
       " 26: 17.040831701069763,\n",
       " 27: 15.589887640449437,\n",
       " 28: 21.573522821842392,\n",
       " 29: 19.14044152184124,\n",
       " 30: 15.411715531139905,\n",
       " 31: 15.590219224283306,\n",
       " 32: 13.589469939523301,\n",
       " 33: 15.810177958164221,\n",
       " 34: 16.49823143001516,\n",
       " 35: 15.444912178835827,\n",
       " 36: 15.29001844640295,\n",
       " 37: 16.04799151531221,\n",
       " 38: 17.166758849557525,\n",
       " 39: 16.01001771425081,\n",
       " 40: 16.065109695682946}"
      ]
     },
     "execution_count": 25,
     "metadata": {},
     "output_type": "execute_result"
    }
   ],
   "source": [
    "percentages={}\n",
    "for i in range(1,41):\n",
    "    percentages[i]=(array3[i]/array[i])*100\n",
    "percentages"
   ]
  },
  {
   "cell_type": "code",
   "execution_count": 26,
   "id": "546cf133-ca67-479f-9f11-47ae8d86691b",
   "metadata": {},
   "outputs": [],
   "source": [
    "dates3=pd.date_range(start='1/1/2018', end='5/20/2021',freq='M')"
   ]
  },
  {
   "cell_type": "code",
   "execution_count": 27,
   "id": "51b7cebd-704a-493b-9040-c9cc85f635a9",
   "metadata": {},
   "outputs": [
    {
     "data": {
      "text/plain": [
       "DatetimeIndex(['2018-01-31', '2018-02-28', '2018-03-31', '2018-04-30',\n",
       "               '2018-05-31', '2018-06-30', '2018-07-31', '2018-08-31',\n",
       "               '2018-09-30', '2018-10-31', '2018-11-30', '2018-12-31',\n",
       "               '2019-01-31', '2019-02-28', '2019-03-31', '2019-04-30',\n",
       "               '2019-05-31', '2019-06-30', '2019-07-31', '2019-08-31',\n",
       "               '2019-09-30', '2019-10-31', '2019-11-30', '2019-12-31',\n",
       "               '2020-01-31', '2020-02-29', '2020-03-31', '2020-04-30',\n",
       "               '2020-05-31', '2020-06-30', '2020-07-31', '2020-08-31',\n",
       "               '2020-09-30', '2020-10-31', '2020-11-30', '2020-12-31',\n",
       "               '2021-01-31', '2021-02-28', '2021-03-31', '2021-04-30'],\n",
       "              dtype='datetime64[ns]', freq='M')"
      ]
     },
     "execution_count": 27,
     "metadata": {},
     "output_type": "execute_result"
    }
   ],
   "source": [
    "dates3"
   ]
  },
  {
   "cell_type": "markdown",
   "id": "c0d06a1d",
   "metadata": {},
   "source": [
    "# Plot"
   ]
  },
  {
   "cell_type": "code",
   "execution_count": 28,
   "id": "d06857e4-a8c7-492a-ba53-797c6eb6a452",
   "metadata": {},
   "outputs": [
    {
     "data": {
      "image/png": "[encoded data removed]",
      "text/plain": [
       "<Figure size 432x288 with 2 Axes>"
      ]
     },
     "metadata": {
      "needs_background": "light"
     },
     "output_type": "display_data"
    }
   ],
   "source": [
    "figure, axes = plt.subplots()\n",
    "\n",
    "axes.plot(dates3, array.values(), color=\"red\", marker=\"o\")\n",
    "\n",
    "# set x-axis label\n",
    "axes.set_xlabel(\"month\",fontsize=14)\n",
    "# set y-axis label\n",
    "axes.set_ylabel(\"Users\",color=\"red\",fontsize=14)\n",
    "ax2=axes.twinx()\n",
    "# make a plot with different y-axis using second axis object\n",
    "ax2.plot(dates3, percentages.values(),color=\"blue\",marker=\"o\")\n",
    "ax2.set_ylabel(\"Same-day user activity (%)\",color=\"blue\",fontsize=14)\n",
    "#plt.xticks(np.arange(0, len(x_axis)+1, 10))\n",
    "\n",
    "axes.xaxis.set(\n",
    "    major_locator = mdates.AutoDateLocator(minticks = 1,\n",
    "                                           maxticks = 5),\n",
    ")\n",
    "\n",
    "locator = mdates.AutoDateLocator(minticks = 15,\n",
    "                                 maxticks = 20)\n",
    "formatter = mdates.ConciseDateFormatter(locator)\n",
    "\n",
    "axes.xaxis.set_major_locator(locator)\n",
    "axes.xaxis.set_major_formatter(formatter)\n",
    "\n",
    "# save the plot as a file\n",
    "figure.savefig('two_different_y_axis_for_single_python_plot_with_twinx2.jpg',\n",
    "            format='jpeg',\n",
    "            dpi=200,\n",
    "            bbox_inches='tight')\n",
    "\n",
    "plt.show()"
   ]
  },
  {
   "cell_type": "code",
   "execution_count": null,
   "id": "752f6ad3-cf41-4d31-a78b-23bae3f6c138",
   "metadata": {},
   "outputs": [],
   "source": []
  }
 ],
 "metadata": {
  "kernelspec": {
   "display_name": "Python 3",
   "language": "python",
   "name": "python3"
  },
  "language_info": {
   "codemirror_mode": {
    "name": "ipython",
    "version": 3
   },
   "file_extension": ".py",
   "mimetype": "text/x-python",
   "name": "python",
   "nbconvert_exporter": "python",
   "pygments_lexer": "ipython3",
   "version": "3.8.8"
  }
 },
 "nbformat": 4,
 "nbformat_minor": 5
}
